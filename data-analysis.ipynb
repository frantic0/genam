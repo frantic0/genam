{
 "cells": [
  {
   "cell_type": "markdown",
   "metadata": {
    "_uuid": "1752ce061957fd1ce93d2e4db9494b7b29da7935"
   },
   "source": [
    "<center>\n",
    "   \n",
    "## [Acoustic Metamaterial Generative Design and Optimisation Pipeline](https://github.com/frantic0/ammgdop)\n",
    "\n",
    "Author: [Francisco Bernardo](https://fbernardo.com). This material is subject to the terms and conditions of the [Creative Commons CC BY-NC-SA 4.0](https://creativecommons.org/licenses/by-nc-sa/4.0/) license. Free use is permitted for any non-commercial purpose."
   ]
  },
  {
   "cell_type": "markdown",
   "metadata": {
    "_uuid": "e3ae8b8d09f0dd881831253957ca96d086038f7b"
   },
   "source": [
    "This notebook implements basic data analysis and the required post-processing operations for extracting measurements from the acoustic pressure field obtained from the Helmholtz solver. Metrics include:\n",
    "\n",
    "* Transmission Loss\n",
    "* Acoustic Velocity\n",
    "* Peak Acoustic Pressure (TBC)\n",
    "\n",
    "To set up the notebook with the required dependencies make sure you have them installed in the system, before you load the notebook. Use your package manager such as conda or pip to install then, for instance:\n",
    "\n",
    "> $ pip3 install numpy\n",
    "\n",
    "> $ pip3 install pandas\n",
    "\n",
    "> $ pip3 install matplotlib\n"
   ]
  },
  {
   "cell_type": "code",
   "execution_count": 67,
   "metadata": {
    "_uuid": "e855067a1d281ca6634772513ef918aa1c9224f4"
   },
   "outputs": [],
   "source": [
    "import numpy as np\n",
    "import pandas as pd\n",
    "import matplotlib.pyplot as plt\n",
    "\n",
    "# pd.set_option(\"display.precision\", 2)"
   ]
  },
  {
   "cell_type": "markdown",
   "metadata": {
    "_uuid": "e3ae8b8d09f0dd881831253957ca96d086038f7b"
   },
   "source": [
    "To start analysing  on labyrinthine bricks [dataset](https://bigml.com/user/francisco/gallery/dataset/5163ad540c0b5e5b22000383) let's read the data using `parseDatNames`"
   ]
  },
  {
   "cell_type": "code",
   "execution_count": 68,
   "metadata": {
    "_uuid": "f274f88e14b4df01f8f60bd8be5e0cea903a7dd7"
   },
   "outputs": [],
   "source": [
    "def parseDatNames(filename):\n",
    "    res = [] # Initialize\n",
    "    if filename[-6:] != \".names\":\n",
    "        filename = filename + \".names\"\n",
    "    with open(filename, 'r') as f:\n",
    "        isHeader = True\n",
    "        for line in f:\n",
    "            if 'Variables in columns' in line:\n",
    "                isHeader = False\n",
    "                continue\n",
    "            if isHeader == True:\n",
    "                continue\n",
    "\n",
    "            # strParse1: get rid of 1: boundary mean, and split over \"over\"\n",
    "            strParse1 = line.strip().split(':')[-1].strip().split('over')\n",
    "            if len(strParse1) == 1:\n",
    "                res.append(strParse1[0])\n",
    "            else:\n",
    "                if len(strParse1[0]) > 0:\n",
    "                    itemName = strParse1[0]\n",
    "                else:\n",
    "                    strParse1[0] = itemName\n",
    "                res.append(strParse1[0].strip() + '.' + strParse1[1].strip())\n",
    "    return res"
   ]
  },
  {
   "cell_type": "markdown",
   "metadata": {
    "_uuid": "d1a98d3e208e59ad0825687ba732f32714fd5e5c"
   },
   "source": [
    "Let's take a look at the column names exported by Elmer for Brick 15:"
   ]
  },
  {
   "cell_type": "code",
   "execution_count": 69,
   "metadata": {},
   "outputs": [
    {
     "name": "stdout",
     "output_type": "stream",
     "text": [
      "pressure wave 1.bc 1\n",
      "pressure wave 1.bc 3\n",
      "pressure wave 2.bc 1\n",
      "pressure wave 2.bc 3\n",
      "pressure wave 1 grad 1.bc 1\n",
      "pressure wave 1 grad 1.bc 3\n",
      "pressure wave 2 grad 1.bc 1\n",
      "pressure wave 2 grad 1.bc 3\n",
      "pressure wave 1 grad 2.bc 1\n",
      "pressure wave 1 grad 2.bc 3\n",
      "pressure wave 2 grad 2.bc 1\n",
      "pressure wave 2 grad 2.bc 3\n",
      "pressure wave 1 grad 3.bc 1\n",
      "pressure wave 1 grad 3.bc 3\n",
      "pressure wave 2 grad 3.bc 1\n",
      "pressure wave 2 grad 3.bc 3\n",
      "frequency\n"
     ]
    }
   ],
   "source": [
    "filename = './data/brick-15/SPLmean.dat'\n",
    "\n",
    "# Boundary Conditions\n",
    "inletBC = 1\n",
    "outletBC = 3\n",
    "\n",
    "rho0 = 1.205\n",
    "c0 = 343\n",
    "flowDir = np.array([1, 0, 0]);\n",
    "\n",
    "# Parse input names:\n",
    "column_names = parseDatNames(filename)\n",
    "\n",
    "print(*column_names, sep ='\\n')"
   ]
  },
  {
   "cell_type": "markdown",
   "metadata": {
    "_uuid": "d1a98d3e208e59ad0825687ba732f32714fd5e5c"
   },
   "source": [
    "Let’s have a look at data dimensionality, feature names, and feature types."
   ]
  },
  {
   "cell_type": "code",
   "execution_count": 70,
   "metadata": {},
   "outputs": [
    {
     "name": "stdout",
     "output_type": "stream",
     "text": [
      "Shape of the data: (3, 17) \n",
      "\n",
      "[[ 9.99996690e-01  1.76879102e-01 -3.58492989e-44 -5.10295667e-01\n",
      "  -3.83938528e-01 -7.46498713e+01 -9.12031019e-02 -1.46054697e+02\n",
      "   6.47656558e-03  5.62639495e-01  4.15000539e-01  1.39955167e+00\n",
      "   4.14708727e+03  9.68715905e+01 -1.66532702e+02 -3.37477927e+02\n",
      "   4.00000000e+04]\n",
      " [ 9.99996690e-01 -1.40323266e+00  1.98647431e-42 -1.05654505e+00\n",
      "  -1.23002487e+00 -6.02109086e+02 -5.20674467e-01  7.69857276e+02\n",
      "  -2.35536803e+00  2.54414021e-01 -4.83584558e+00 -3.78356692e-01\n",
      "  -2.66993452e+03 -8.08441723e+02 -1.47047750e+04  1.25732054e+03\n",
      "   4.05000000e+04]\n",
      " [ 9.99996690e-01  8.19907481e-02 -9.24674080e-46  1.43998552e-01\n",
      "   8.27310984e-02  4.45522274e+02  1.36980477e+00 -1.84192777e+02\n",
      "  -3.86833498e+00  4.14476253e+00 -5.34629312e-01  5.07198960e+00\n",
      "  -5.99931059e+03  8.31491620e+02 -2.27324882e+03 -1.04386145e+02\n",
      "   4.10000000e+04]]\n"
     ]
    }
   ],
   "source": [
    "with open(filename, 'r') as f:\n",
    "    res = np.array([np.fromstring(line.strip(), dtype=float, sep=' ') for line in f])\n",
    "\n",
    "print(\"Shape of the data: {} \\n\".format(res.shape))          \n",
    "  \n",
    "\n",
    "print(res)\n"
   ]
  },
  {
   "cell_type": "markdown",
   "metadata": {
    "_uuid": "a2f8fc5742d83ec5a110fa56fd967497013bec39"
   },
   "source": [
    "<details>\n",
    "<summary>About printing DataFrames in Jupyter notebooks</summary>\n",
    "<p>\n",
    "In Jupyter notebooks, Pandas DataFrames are printed as these pretty tables seen above while `print(df.head())` is less nicely formatted.\n",
    "By default, Pandas displays 20 columns and 60 rows, so, if your DataFrame is bigger, use the `set_option` function as shown in the example below:\n",
    "\n",
    "```python\n",
    "pd.set_option('display.max_columns', 100)\n",
    "pd.set_option('display.max_rows', 100)\n",
    "```\n",
    "</p>\n",
    "</details>\n",
    "\n",
    "Recall that each row corresponds to one client, an **instance**, and columns are **features** of this instance.\n",
    "\n",
    "Let's now get the frequency and pressure values and assign to variables"
   ]
  },
  {
   "cell_type": "code",
   "execution_count": 79,
   "metadata": {},
   "outputs": [
    {
     "name": "stdout",
     "output_type": "stream",
     "text": [
      "[0.99999669-3.58492989e-44j 0.99999669+1.98647431e-42j\n",
      " 0.99999669-9.24674080e-46j]\n",
      "[ 0.1768791 -0.51029567j -1.40323266-1.05654505j  0.08199075+0.14399855j]\n"
     ]
    }
   ],
   "source": [
    "freqVec = res[:, column_names.index('frequency')]\n",
    "omegaVec = 2 * np.pi * freqVec\n",
    "\n",
    "## Get pressure at inlet and outlet\n",
    "\n",
    "pIn = res[:, column_names.index('pressure wave 1.bc ' + str(inletBC))] \\\n",
    "     + 1j * res[:, column_names.index('pressure wave 2.bc ' + str(inletBC))]\n",
    "\n",
    "pOut = res[:, column_names.index('pressure wave 1.bc ' + str(outletBC))] \\\n",
    "     + 1j * res[:, column_names.index('pressure wave 2.bc ' + str(outletBC))]\n",
    "\n",
    "print(pIn)\n",
    "print(pOut)"
   ]
  },
  {
   "cell_type": "markdown",
   "metadata": {
    "_uuid": "a2f8fc5742d83ec5a110fa56fd967497013bec39"
   },
   "source": [
    "\n",
    "To calculate velocity at inlet, we use  \n",
    "\n",
    "**uIn = 1j / rho0 / omegaVec * dp/dn**\n",
    "\n",
    "To decompose the p to p+ and p-, we notice that\n",
    "\n",
    "**p+ + p- = p**\n",
    "\n",
    "**p+ - p- = uIn * rho0 * c0**\n",
    "\n",
    "so, \n",
    "\n",
    "**p+ = (p + uIn * rho0 * c0) / 2**\n"
   ]
  },
  {
   "cell_type": "code",
   "execution_count": 76,
   "metadata": {
    "scrolled": true
   },
   "outputs": [],
   "source": [
    "#  Check if it is 3D\n",
    "dim = 3\n",
    "if \"pressure wave 1 grad 3.bc 1\" not in column_names:\n",
    "    dim = 2\n",
    "    flowDir = flowDir[:-1]\n",
    "\n",
    "pGradIn, pGradOut = np.zeros((freqVec.size, dim), dtype=np.complex_), np.zeros((freqVec.size, dim), dtype=np.complex_)\n",
    "\n",
    "# Get pGradIn and pGradOut\n",
    "fmt = 'pressure wave {0:d} grad {1:d}.bc {2:s}'\n",
    "for ind in range(dim):\n",
    "    # Inlet\n",
    "    strReal = fmt.format(1, ind+1, str(inletBC))\n",
    "    strImag = fmt.format(2, ind+1, str(inletBC))\n",
    "    pGradIn[:, ind] = res[:, column_names.index(strReal)] + 1j * res[:, column_names.index(strImag)]\n",
    "    # outlet\n",
    "    strReal = fmt.format(1, ind+1, str(outletBC))\n",
    "    strImag = fmt.format(2, ind+1, str(outletBC))\n",
    "    pGradOut[:, ind] = res[:, column_names.index(strReal)] + 1j * res[:, column_names.index(strImag)]\n",
    "    \n",
    "# Decomposition at inlet\n",
    "dpdnIn = pGradIn.dot(flowDir)\n",
    "uIn = 1j/rho0/omegaVec*dpdnIn\n",
    "pInPlus = (pIn + uIn*rho0*c0)/2\n",
    "pInMinus = pIn - pInPlus\n",
    "\n",
    "# Decomposition at outlet\n",
    "dpdnOut = pGradOut.dot(flowDir)\n",
    "uOut = 1j/rho0/omegaVec*dpdnOut\n"
   ]
  },
  {
   "cell_type": "code",
   "execution_count": 81,
   "metadata": {},
   "outputs": [
    {
     "data": {
      "image/png": "[encoded data removed]",
      "text/plain": [
       "<Figure size 432x288 with 1 Axes>"
      ]
     },
     "metadata": {
      "needs_background": "light"
     },
     "output_type": "display_data"
    }
   ],
   "source": [
    "# Transmission Loss\n",
    "TL = 20*np.log10(np.abs(pInPlus)/np.abs(pOut))\n",
    "\n",
    "# Plot\n",
    "plt.close(\"all\")\n",
    "fig, ax = plt.subplots()\n",
    "ax.minorticks_on()\n",
    "ax.grid(which='both')\n",
    "ln = plt.plot(freqVec, TL, '-o', label='Simulation')\n",
    "plt.xlabel('Frequency, Hz')\n",
    "plt.ylabel('Transmission Loss, dB')\n",
    "plt.title(filename)\n",
    "plt.show()\n",
    "\n"
   ]
  }
 ],
 "metadata": {
  "kernelspec": {
   "display_name": "Python 3 (ipykernel)",
   "language": "python",
   "name": "python3"
  },
  "language_info": {
   "codemirror_mode": {
    "name": "ipython",
    "version": 3
   },
   "file_extension": ".py",
   "mimetype": "text/x-python",
   "name": "python",
   "nbconvert_exporter": "python",
   "pygments_lexer": "ipython3",
   "version": "3.9.10"
  }
 },
 "nbformat": 4,
 "nbformat_minor": 4
}
