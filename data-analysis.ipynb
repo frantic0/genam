{
 "cells": [
  {
   "cell_type": "markdown",
   "metadata": {
    "_uuid": "1752ce061957fd1ce93d2e4db9494b7b29da7935"
   },
   "source": [
    "<center>\n",
    "   \n",
    "## [Acoustic Metamaterial Generative Design and Optimisation Pipeline](https://github.com/frantic0/ammgdop)\n",
    "\n",
    "Author: [Francisco Bernardo](https://fbernardo.com). This material is subject to the terms and conditions of the [Creative Commons CC BY-NC-SA 4.0](https://creativecommons.org/licenses/by-nc-sa/4.0/) license. Free use is permitted for any non-commercial purpose."
   ]
  },
  {
   "cell_type": "markdown",
   "metadata": {
    "_uuid": "e3ae8b8d09f0dd881831253957ca96d086038f7b"
   },
   "source": [
    "This notebook implements basic data analysis and the required post-processing operations for extracting measurements from the acoustic pressure field obtained from the Helmholtz solver, including:\n",
    "\n",
    "* Absolute pressure field\n",
    "* Transmission Loss\n",
    "* Acoustic Velocity\n",
    "* Peak Acoustic Pressure\n",
    "\n",
    "To set up the notebook with the required dependencies make sure you have them installed in the system, before you load the notebook. Use your package manager such as conda or pip to install then, for instance:\n",
    "\n",
    "> $ pip3 install numpy\n",
    "\n",
    "> $ pip3 install pandas\n",
    "\n",
    "> $ pip3 install matplotlib\n"
   ]
  },
  {
   "cell_type": "code",
   "execution_count": 194,
   "metadata": {
    "_uuid": "e855067a1d281ca6634772513ef918aa1c9224f4"
   },
   "outputs": [],
   "source": [
    "import numpy as np\n",
    "import pandas as pd\n",
    "import math\n",
    "import matplotlib.pyplot as plt\n",
    "import os\n",
    "\n",
    "# pd.set_option(\"display.precision\", 2)"
   ]
  },
  {
   "cell_type": "markdown",
   "metadata": {
    "_uuid": "e3ae8b8d09f0dd881831253957ca96d086038f7b"
   },
   "source": [
    "To start analysing the labyrinthine bricks [dataset](https://bigml.com/user/francisco/gallery/dataset/5163ad540c0b5e5b22000383) let's read the data using `parseDatNames`"
   ]
  },
  {
   "cell_type": "code",
   "execution_count": 195,
   "metadata": {
    "_uuid": "f274f88e14b4df01f8f60bd8be5e0cea903a7dd7"
   },
   "outputs": [],
   "source": [
    "def parseDatNames(filename):\n",
    "    res = [] # Initialize\n",
    "    if filename[-6:] != \".names\":\n",
    "        filename = filename + \".names\"\n",
    "    with open(filename, 'r') as f:\n",
    "        isHeader = True\n",
    "        for line in f:\n",
    "            if 'Variables in columns' in line:\n",
    "                isHeader = False\n",
    "                continue\n",
    "            if isHeader == True:\n",
    "                continue\n",
    "\n",
    "            # strParse1: get rid of 1: boundary mean, and split over \"over\"\n",
    "            strParse1 = line.strip().split(':')[-1].strip().split('over')\n",
    "            if len(strParse1) == 1:\n",
    "                res.append(strParse1[0])\n",
    "            else:\n",
    "                if len(strParse1[0]) > 0:\n",
    "                    itemName = strParse1[0]\n",
    "                else:\n",
    "                    strParse1[0] = itemName\n",
    "                res.append(strParse1[0].strip() + '.' + strParse1[1].strip())\n",
    "    return res"
   ]
  },
  {
   "cell_type": "markdown",
   "metadata": {
    "_uuid": "d1a98d3e208e59ad0825687ba732f32714fd5e5c"
   },
   "source": [
    "Let's take a look at the column names exported by Elmer for Brick 15:"
   ]
  },
  {
   "cell_type": "code",
   "execution_count": 196,
   "metadata": {},
   "outputs": [
    {
     "name": "stdout",
     "output_type": "stream",
     "text": [
      "pressure wave 1.bc 1\n",
      "pressure wave 1.bc 3\n",
      "pressure wave 2.bc 1\n",
      "pressure wave 2.bc 3\n",
      "pressure wave 1 grad 1.bc 1\n",
      "pressure wave 1 grad 1.bc 3\n",
      "pressure wave 1 grad 2.bc 1\n",
      "pressure wave 1 grad 2.bc 3\n",
      "pressure wave 1 grad 3.bc 1\n",
      "pressure wave 1 grad 3.bc 3\n",
      "frequency\n"
     ]
    }
   ],
   "source": [
    "filename = './data/brick-15/SPLmean.dat'\n",
    "\n",
    "# Boundary Conditions\n",
    "inletBC = 1\n",
    "outletBC = 3\n",
    "\n",
    "rho0 = 1.205\n",
    "c0 = 343\n",
    "flowDir = np.array([1, 0, 0])\n",
    "\n",
    "# Parse input names:\n",
    "column_names = parseDatNames(filename)\n",
    "\n",
    "print(*column_names, sep ='\\n')"
   ]
  },
  {
   "cell_type": "markdown",
   "metadata": {
    "_uuid": "d1a98d3e208e59ad0825687ba732f32714fd5e5c"
   },
   "source": [
    "Let’s have a look at data dimensionality, feature names, and feature types."
   ]
  },
  {
   "cell_type": "code",
   "execution_count": 197,
   "metadata": {},
   "outputs": [
    {
     "name": "stdout",
     "output_type": "stream",
     "text": [
      "Shape of the data: (3, 11) \n",
      "\n",
      "[[ 9.99996690e-01  1.76879102e-01 -3.58492989e-44 -5.10295667e-01\n",
      "  -3.83938528e-01 -7.46498713e+01  6.47656558e-03  5.62639495e-01\n",
      "   4.14708727e+03  9.68715905e+01  4.00000000e+04]\n",
      " [ 9.99996690e-01 -1.40323266e+00  1.98647431e-42 -1.05654505e+00\n",
      "  -1.23002487e+00 -6.02109086e+02 -2.35536803e+00  2.54414021e-01\n",
      "  -2.66993452e+03 -8.08441723e+02  4.05000000e+04]\n",
      " [ 9.99996690e-01  8.19907481e-02 -9.24674080e-46  1.43998552e-01\n",
      "   8.27310984e-02  4.45522274e+02 -3.86833498e+00  4.14476253e+00\n",
      "  -5.99931059e+03  8.31491620e+02  4.10000000e+04]]\n"
     ]
    }
   ],
   "source": [
    "with open(filename, 'r') as f:\n",
    "    res = np.array([np.fromstring(line.strip(), dtype=float, sep=' ') for line in f])\n",
    "\n",
    "print(\"Shape of the data: {} \\n\".format(res.shape))          \n",
    "  \n",
    "\n",
    "print(res)\n"
   ]
  },
  {
   "cell_type": "markdown",
   "metadata": {
    "_uuid": "a2f8fc5742d83ec5a110fa56fd967497013bec39"
   },
   "source": [
    "<details>\n",
    "<summary>About printing DataFrames in Jupyter notebooks</summary>\n",
    "<p>\n",
    "In Jupyter notebooks, Pandas DataFrames are printed as these pretty tables seen above while `print(df.head())` is less nicely formatted.\n",
    "By default, Pandas displays 20 columns and 60 rows, so, if your DataFrame is bigger, use the `set_option` function as shown in the example below:\n",
    "\n",
    "```python\n",
    "pd.set_option('display.max_columns', 100)\n",
    "pd.set_option('display.max_rows', 100)\n",
    "```\n",
    "</p>\n",
    "</details>\n",
    "\n",
    "Recall that each row corresponds to one frequency, an **instance**, and columns are **features** of this instance.\n",
    "\n",
    "Let's now get the frequency and pressure values and assign to variables"
   ]
  },
  {
   "cell_type": "markdown",
   "metadata": {},
   "source": []
  },
  {
   "cell_type": "code",
   "execution_count": 225,
   "metadata": {},
   "outputs": [
    {
     "name": "stdout",
     "output_type": "stream",
     "text": [
      "[0.99999669-3.58492989e-44j 0.99999669+1.98647431e-42j\n",
      " 0.99999669-9.24674080e-46j]\n",
      "[ 0.1768791 -0.51029567j -1.40323266-1.05654505j  0.08199075+0.14399855j]\n"
     ]
    }
   ],
   "source": [
    "freqVec = res[:, column_names.index('frequency')]\n",
    "omegaVec = 2 * np.pi * freqVec\n",
    "\n",
    "## Get pressure at inlet and outlet\n",
    "\n",
    "pIn = res[:, column_names.index('pressure wave 1.bc ' + str(inletBC))] \\\n",
    "     + 1j * res[:, column_names.index('pressure wave 2.bc ' + str(inletBC))]\n",
    "\n",
    "pOut = res[:, column_names.index('pressure wave 1.bc ' + str(outletBC))] \\\n",
    "     + 1j * res[:, column_names.index('pressure wave 2.bc ' + str(outletBC))]\n",
    "\n",
    "print(pIn)\n",
    "print(pOut)"
   ]
  },
  {
   "cell_type": "markdown",
   "metadata": {
    "_uuid": "a2f8fc5742d83ec5a110fa56fd967497013bec39"
   },
   "source": [
    "\n",
    "To calculate velocity at inlet, we use **uIn = 1j / rho0 / omegaVec * dp/dn**\n",
    "\n",
    "To decompose the p to p+ and p-, we consider \n",
    "\n",
    "**p+ + p- = p** and **p+ - p- = uIn * rho0 * c0**\n",
    "\n",
    "so, \n",
    "\n",
    "**p+ = (p + uIn * rho0 * c0) / 2**\n"
   ]
  },
  {
   "cell_type": "code",
   "execution_count": 224,
   "metadata": {
    "scrolled": true
   },
   "outputs": [
    {
     "ename": "ValueError",
     "evalue": "'pressure wave 2 grad 1.bc 1' is not in list",
     "output_type": "error",
     "traceback": [
      "\u001b[0;31m---------------------------------------------------------------------------\u001b[0m",
      "\u001b[0;31mValueError\u001b[0m                                Traceback (most recent call last)",
      "\u001b[0;32m/var/folders/0v/7xwmzfzj0653k_w5bn37zdqr0000gn/T/ipykernel_46587/1550815784.py\u001b[0m in \u001b[0;36m<module>\u001b[0;34m\u001b[0m\n\u001b[1;32m     13\u001b[0m     \u001b[0mstrReal\u001b[0m \u001b[0;34m=\u001b[0m \u001b[0mfmt\u001b[0m\u001b[0;34m.\u001b[0m\u001b[0mformat\u001b[0m\u001b[0;34m(\u001b[0m\u001b[0;36m1\u001b[0m\u001b[0;34m,\u001b[0m \u001b[0mind\u001b[0m\u001b[0;34m+\u001b[0m\u001b[0;36m1\u001b[0m\u001b[0;34m,\u001b[0m \u001b[0mstr\u001b[0m\u001b[0;34m(\u001b[0m\u001b[0minletBC\u001b[0m\u001b[0;34m)\u001b[0m\u001b[0;34m)\u001b[0m\u001b[0;34m\u001b[0m\u001b[0;34m\u001b[0m\u001b[0m\n\u001b[1;32m     14\u001b[0m     \u001b[0mstrImag\u001b[0m \u001b[0;34m=\u001b[0m \u001b[0mfmt\u001b[0m\u001b[0;34m.\u001b[0m\u001b[0mformat\u001b[0m\u001b[0;34m(\u001b[0m\u001b[0;36m2\u001b[0m\u001b[0;34m,\u001b[0m \u001b[0mind\u001b[0m\u001b[0;34m+\u001b[0m\u001b[0;36m1\u001b[0m\u001b[0;34m,\u001b[0m \u001b[0mstr\u001b[0m\u001b[0;34m(\u001b[0m\u001b[0minletBC\u001b[0m\u001b[0;34m)\u001b[0m\u001b[0;34m)\u001b[0m\u001b[0;34m\u001b[0m\u001b[0;34m\u001b[0m\u001b[0m\n\u001b[0;32m---> 15\u001b[0;31m     \u001b[0mpGradIn\u001b[0m\u001b[0;34m[\u001b[0m\u001b[0;34m:\u001b[0m\u001b[0;34m,\u001b[0m \u001b[0mind\u001b[0m\u001b[0;34m]\u001b[0m \u001b[0;34m=\u001b[0m \u001b[0mres\u001b[0m\u001b[0;34m[\u001b[0m\u001b[0;34m:\u001b[0m\u001b[0;34m,\u001b[0m \u001b[0mcolumn_names\u001b[0m\u001b[0;34m.\u001b[0m\u001b[0mindex\u001b[0m\u001b[0;34m(\u001b[0m\u001b[0mstrReal\u001b[0m\u001b[0;34m)\u001b[0m\u001b[0;34m]\u001b[0m \u001b[0;34m+\u001b[0m \u001b[0;36m1j\u001b[0m \u001b[0;34m*\u001b[0m \u001b[0mres\u001b[0m\u001b[0;34m[\u001b[0m\u001b[0;34m:\u001b[0m\u001b[0;34m,\u001b[0m \u001b[0mcolumn_names\u001b[0m\u001b[0;34m.\u001b[0m\u001b[0mindex\u001b[0m\u001b[0;34m(\u001b[0m\u001b[0mstrImag\u001b[0m\u001b[0;34m)\u001b[0m\u001b[0;34m]\u001b[0m\u001b[0;34m\u001b[0m\u001b[0;34m\u001b[0m\u001b[0m\n\u001b[0m\u001b[1;32m     16\u001b[0m     \u001b[0;31m# outlet\u001b[0m\u001b[0;34m\u001b[0m\u001b[0;34m\u001b[0m\u001b[0m\n\u001b[1;32m     17\u001b[0m     \u001b[0mstrReal\u001b[0m \u001b[0;34m=\u001b[0m \u001b[0mfmt\u001b[0m\u001b[0;34m.\u001b[0m\u001b[0mformat\u001b[0m\u001b[0;34m(\u001b[0m\u001b[0;36m1\u001b[0m\u001b[0;34m,\u001b[0m \u001b[0mind\u001b[0m\u001b[0;34m+\u001b[0m\u001b[0;36m1\u001b[0m\u001b[0;34m,\u001b[0m \u001b[0mstr\u001b[0m\u001b[0;34m(\u001b[0m\u001b[0moutletBC\u001b[0m\u001b[0;34m)\u001b[0m\u001b[0;34m)\u001b[0m\u001b[0;34m\u001b[0m\u001b[0;34m\u001b[0m\u001b[0m\n",
      "\u001b[0;31mValueError\u001b[0m: 'pressure wave 2 grad 1.bc 1' is not in list"
     ]
    }
   ],
   "source": [
    "#  Check if it is 3D\n",
    "dim = 3\n",
    "if \"pressure wave 1 grad 3.bc 1\" not in column_names:\n",
    "    dim = 2\n",
    "    flowDir = flowDir[:-1]\n",
    "\n",
    "pGradIn, pGradOut = np.zeros((freqVec.size, dim), dtype=np.complex_), np.zeros((freqVec.size, dim), dtype=np.complex_)\n",
    "\n",
    "# Get pGradIn and pGradOut\n",
    "fmt = 'pressure wave {0:d} grad {1:d}.bc {2:s}'\n",
    "for ind in range(dim):\n",
    "    # Inlet\n",
    "    strReal = fmt.format(1, ind+1, str(inletBC))\n",
    "    strImag = fmt.format(2, ind+1, str(inletBC))\n",
    "    pGradIn[:, ind] = res[:, column_names.index(strReal)] + 1j * res[:, column_names.index(strImag)]\n",
    "    # outlet\n",
    "    strReal = fmt.format(1, ind+1, str(outletBC))\n",
    "    strImag = fmt.format(2, ind+1, str(outletBC))\n",
    "    pGradOut[:, ind] = res[:, column_names.index(strReal)] + 1j * res[:, column_names.index(strImag)]\n",
    "    \n",
    "# Decomposition at inlet\n",
    "dpdnIn = pGradIn.dot(flowDir)\n",
    "uIn = 1j/rho0/omegaVec*dpdnIn\n",
    "pInPlus = (pIn + uIn*rho0*c0)/2\n",
    "pInMinus = pIn - pInPlus\n",
    "\n",
    "# Decomposition at outlet\n",
    "dpdnOut = pGradOut.dot(flowDir)\n",
    "uOut = 1j/rho0/omegaVec*dpdnOut\n",
    "\n",
    "# Transmission Loss\n",
    "TL = 20*np.log10(np.abs(pInPlus)/np.abs(pOut))\n",
    "\n",
    "# Plot\n",
    "plt.close(\"all\")\n",
    "fig, ax = plt.subplots()\n",
    "ax.minorticks_on()\n",
    "ax.grid(which='both')\n",
    "ln = plt.plot(freqVec, TL, '-o', label='Simulation')\n",
    "plt.xlabel('Frequency, Hz')\n",
    "plt.ylabel('Transmission Loss, dB')\n",
    "plt.title(filename)\n",
    "plt.show()\n",
    "\n"
   ]
  },
  {
   "cell_type": "code",
   "execution_count": 15,
   "metadata": {},
   "outputs": [
    {
     "ename": "NameError",
     "evalue": "name 'pInPlus' is not defined",
     "output_type": "error",
     "traceback": [
      "\u001b[0;31m---------------------------------------------------------------------------\u001b[0m",
      "\u001b[0;31mNameError\u001b[0m                                 Traceback (most recent call last)",
      "\u001b[0;32m/var/folders/0v/7xwmzfzj0653k_w5bn37zdqr0000gn/T/ipykernel_43077/1664905215.py\u001b[0m in \u001b[0;36m<module>\u001b[0;34m\u001b[0m\n\u001b[1;32m      1\u001b[0m \u001b[0;31m# Transmission Loss\u001b[0m\u001b[0;34m\u001b[0m\u001b[0;34m\u001b[0m\u001b[0m\n\u001b[0;32m----> 2\u001b[0;31m \u001b[0mTL\u001b[0m \u001b[0;34m=\u001b[0m \u001b[0;36m20\u001b[0m\u001b[0;34m*\u001b[0m\u001b[0mnp\u001b[0m\u001b[0;34m.\u001b[0m\u001b[0mlog10\u001b[0m\u001b[0;34m(\u001b[0m\u001b[0mnp\u001b[0m\u001b[0;34m.\u001b[0m\u001b[0mabs\u001b[0m\u001b[0;34m(\u001b[0m\u001b[0mpInPlus\u001b[0m\u001b[0;34m)\u001b[0m\u001b[0;34m/\u001b[0m\u001b[0mnp\u001b[0m\u001b[0;34m.\u001b[0m\u001b[0mabs\u001b[0m\u001b[0;34m(\u001b[0m\u001b[0mpOut\u001b[0m\u001b[0;34m)\u001b[0m\u001b[0;34m)\u001b[0m\u001b[0;34m\u001b[0m\u001b[0;34m\u001b[0m\u001b[0m\n\u001b[0m\u001b[1;32m      3\u001b[0m \u001b[0;34m\u001b[0m\u001b[0m\n\u001b[1;32m      4\u001b[0m \u001b[0;31m# Plot\u001b[0m\u001b[0;34m\u001b[0m\u001b[0;34m\u001b[0m\u001b[0m\n\u001b[1;32m      5\u001b[0m \u001b[0mplt\u001b[0m\u001b[0;34m.\u001b[0m\u001b[0mclose\u001b[0m\u001b[0;34m(\u001b[0m\u001b[0;34m\"all\"\u001b[0m\u001b[0;34m)\u001b[0m\u001b[0;34m\u001b[0m\u001b[0;34m\u001b[0m\u001b[0m\n",
      "\u001b[0;31mNameError\u001b[0m: name 'pInPlus' is not defined"
     ]
    }
   ],
   "source": [
    "\n",
    "\n"
   ]
  },
  {
   "cell_type": "code",
   "execution_count": 208,
   "metadata": {},
   "outputs": [
    {
     "data": {
      "image/png": "[encoded data removed]",
      "text/plain": [
       "<IPython.core.display.Image object>"
      ]
     },
     "execution_count": 208,
     "metadata": {},
     "output_type": "execute_result"
    }
   ],
   "source": [
    "import vtk\n",
    "from IPython.display import Image\n",
    "\n",
    "def vtk_show(renderer, w=100, h=100):\n",
    "    \"\"\"\n",
    "    Takes vtkRenderer instance and returns an IPython Image with the rendering.\n",
    "    \"\"\"\n",
    "    renderWindow = vtk.vtkRenderWindow()\n",
    "    renderWindow.SetOffScreenRendering(1)\n",
    "    renderWindow.SetLineSmoothing(1)\n",
    "    renderWindow.AddRenderer(renderer)\n",
    "    renderWindow.SetSize(w, h)\n",
    "    renderWindow.Render()\n",
    "     \n",
    "    windowToImageFilter = vtk.vtkWindowToImageFilter()\n",
    "    windowToImageFilter.SetInput(renderWindow)\n",
    "    windowToImageFilter.Update()\n",
    "     \n",
    "    writer = vtk.vtkPNGWriter()\n",
    "    writer.SetWriteToMemory(1)\n",
    "    writer.SetInputConnection(windowToImageFilter.GetOutputPort())\n",
    "    writer.Write()\n",
    "    data = memoryview(writer.GetResult()).tobytes()\n",
    "    # data = str(buffer(writer.GetResult()))\n",
    "    \n",
    "    return Image(data)\n",
    "\n",
    "\n",
    "vtu_filename = './data/vtus/grad/brick-40000_t0001.vtu'\n",
    "\n",
    "colors = vtk.vtkNamedColors()\n",
    "reader = vtk.vtkXMLUnstructuredGridReader()\n",
    "reader.SetFileName(vtu_filename)\n",
    "reader.Update()  # Needed because of GetScalarRange\n",
    "\n",
    "# Get UnstructuredGrid and extract point data fields\n",
    "unstructuredGrid = reader.GetOutput() \n",
    "pressure_wave_1 = unstructuredGrid.GetPointData().GetArray(\"pressure wave 1\")\n",
    "pressure_wave_2 = unstructuredGrid.GetPointData().GetArray(\"pressure wave 2\")\n",
    "spl = unstructuredGrid.GetPointData().GetArray(\"spl\")\n",
    "phase = unstructuredGrid.GetPointData().GetArray(\"phase\")\n",
    "pressure_wave_2_flux = unstructuredGrid.GetPointData().GetArray(\"pressure wave 2 flux\")\n",
    "pressure_wave_1_flux = unstructuredGrid.GetPointData().GetArray(\"pressure wave 1 flux\")\n",
    "\n",
    "# print(unstructuredGrid.keys())\n",
    "\n",
    "\n",
    "# Create the mapper that corresponds the objects of the vtk.vtk file\n",
    "# into graphics elements\n",
    "mapper = vtk.vtkDataSetMapper()\n",
    "mapper.SetInputData(unstructuredGrid)\n",
    "\n",
    "# mapper.SetScalarRange(scalar_range)\n",
    "mapper.ScalarVisibilityOff()\n",
    "\n",
    "# Create the Actor\n",
    "actor = vtk.vtkActor()\n",
    "actor.SetMapper(mapper)\n",
    "# actor.SetPosition(0, -200, -200)\n",
    "# actor.SetScale(-20, -40, -20)\n",
    "# actor.SetOrigin(0, -200, -200)\n",
    "actor.GetProperty().EdgeVisibilityOn()\n",
    "actor.GetProperty().EdgeVisibilityOn()\n",
    "actor.GetProperty().SetLineWidth(0.5)\n",
    "actor.GetProperty().SetColor(colors.GetColor3d(\"Beige\"))\n",
    "backface = vtk.vtkProperty()\n",
    "backface.SetColor(colors.GetColor3d('Tomato'))\n",
    "actor.SetBackfaceProperty(backface)\n",
    "\n",
    "# Create the Renderer\n",
    "renderer = vtk.vtkRenderer()\n",
    "renderer.AddActor(actor)\n",
    "actor.RotateY(90)\n",
    "renderer.SetBackground(colors.GetColor3d('White'))\n",
    "\n",
    "vtk_show(renderer, 400, 200)\n",
    "\n",
    "# Create the RendererWindow\n",
    "# renderer_window = vtk.vtkRenderWindow()\n",
    "# renderer_window.SetSize(640, 480)\n",
    "# renderer_window.AddRenderer(renderer)\n",
    "# renderer_window.SetWindowName('ReadUnstructuredGrid')\n",
    "\n",
    "# Create the RendererWindowInteractor and display the vtk_file\n",
    "# interactor = vtk.vtkRenderWindowInteractor()\n",
    "# interactor.SetRenderWindow(renderer_window)\n",
    "# interactor.Initialize()\n",
    "# interactor.Start()\n",
    "\n"
   ]
  },
  {
   "cell_type": "markdown",
   "metadata": {},
   "source": [
    "### Complex Pressure components (real and imaginary)"
   ]
  },
  {
   "cell_type": "code",
   "execution_count": 229,
   "metadata": {},
   "outputs": [
    {
     "name": "stdout",
     "output_type": "stream",
     "text": [
      "** Pressure wave 1 (real)\n",
      "<class 'vtkmodules.vtkCommonCore.vtkDoubleArray'>\n",
      "#values: 50873\n",
      "Value Range: (-18.58334385824215, 15.094013639761364)\n",
      "Value at index 0: -0.2690436474684704\n",
      "Index of value -18.58334385824215: 7452\n",
      "Index of value 15.094013639761364: 1842\n",
      "\n",
      "** Pressure wave 2 (imag) <class 'vtkmodules.vtkCommonCore.vtkDoubleArray'>\n",
      "#values: 50873\n",
      "Value Range: (-3.366151627268815, 3.414775965669333)\n",
      "Index of value -3.366151627268815: 9965\n",
      "Index of value 3.414775965669333: 8267\n"
     ]
    }
   ],
   "source": [
    "print(\"** Pressure wave 1 (real)\")\n",
    "\n",
    "# print(pressure_wave_1)\n",
    "print(type(pressure_wave_1))\n",
    "# print(\"#values: {}\".format(pressure_wave_1.GetNumberOfValues()))\n",
    "print(\"#values: {}\".format(pressure_wave_1.GetSize()))\n",
    "print(\"Value Range: {}\".format(pressure_wave_1.GetValueRange()))\n",
    "print(\"Value at index {}: {}\".format(0, pressure_wave_1.GetValue(0)))\n",
    "print(\"Index of value {}: {}\".format(pressure_wave_1.GetValueRange()[0], pressure_wave_1.LookupValue(pressure_wave_1.GetValueRange()[0])))\n",
    "print(\"Index of value {}: {}\".format(pressure_wave_1.GetValueRange()[1], pressure_wave_1.LookupValue(pressure_wave_1.GetValueRange()[1])))\n",
    "# print(pressure_wave_1.len)\n",
    "\n",
    "\n",
    "print(\"\\n** Pressure wave 2 (imag) {}\".format(type(pressure_wave_2)) )\n",
    "# print(pressure_wave_2)\n",
    "# print(repr(pressure_wave_2))\n",
    "print(\"#values: {}\".format(pressure_wave_2.GetSize()))\n",
    "print(\"Value Range: {}\".format(pressure_wave_2.GetValueRange()))\n",
    "# print(\"Value at index {}: {}\".format(0, pressure_wave_2.GetValue(0)))\n",
    "print(\"Index of value {}: {}\".format(pressure_wave_2.GetValueRange()[0], pressure_wave_2.LookupValue(pressure_wave_2.GetValueRange()[0])))\n",
    "print(\"Index of value {}: {}\".format(pressure_wave_2.GetValueRange()[1], pressure_wave_2.LookupValue(pressure_wave_2.GetValueRange()[1])))\n",
    "\n",
    "# print(pressure_wave_1.len)\n"
   ]
  },
  {
   "cell_type": "markdown",
   "metadata": {},
   "source": [
    "### Absolute Pressure \n",
    "\n",
    "Here we calculate the absolute complex pressure from the real and imaginary components of the complex pressure. \n",
    "\n",
    "We iterate the Pressure Wave 1 and 2 arrays (vtkDoubleArrays, non-iterable) and zip up the resulting arrays in one array where absolute pressure is calculated for each index.\n",
    "\n"
   ]
  },
  {
   "cell_type": "code",
   "execution_count": 226,
   "metadata": {},
   "outputs": [
    {
     "name": "stdout",
     "output_type": "stream",
     "text": [
      "** Absolute Pressure Wave <class 'numpy.ndarray'>\n",
      "#values: 50873\n",
      "Value Range: -48.513294528803044 22.40256949234098\n",
      "Index of value -48.513294528803044: [50382]\n",
      "Index of value 22.40256949234098: [7452]\n"
     ]
    }
   ],
   "source": [
    "\n",
    "# from vtk import numpy_support\n",
    "\n",
    "def absolute_pressure(real, imag): \n",
    "    return 20*math.log10(((math.sqrt(real**2+imag**2))/math.sqrt(2)))\n",
    "    return 20*math.log(((math.sqrt(real**2+imag**2))/math.sqrt(2)))\n",
    "\n",
    "pressure_wave_1_array = [ pressure_wave_1.GetValue(i) for i in range(0, pressure_wave_1.GetSize() ) ]\n",
    "pressure_wave_2_array = [ pressure_wave_2.GetValue(i) for i in range(0, pressure_wave_2.GetSize() ) ] \n",
    "\n",
    "absolute_pressure_wave = np.array([ absolute_pressure(real, imag) for real, imag in zip(pressure_wave_1_array, pressure_wave_2_array) ])\n",
    "\n",
    "print(\"** Absolute Pressure Wave {}\".format( type(absolute_pressure_wave) ) )\n",
    "# print(type(absolute_pressure_wave))\n",
    "# print(absolute_pressure_wave)\n",
    "print(\"#values: {}\".format( len(absolute_pressure_wave) ))\n",
    "\n",
    "min_absolute_pressure_wave = sorted(absolute_pressure_wave)[0]\n",
    "max_absolute_pressure_wave = sorted(absolute_pressure_wave)[len(absolute_pressure_wave)-1]\n",
    "print(\"Value Range: {} {}\".format( min_absolute_pressure_wave , max_absolute_pressure_wave ))\n",
    "print(\"Index of value {}: {}\".format( min_absolute_pressure_wave, np.where(absolute_pressure_wave == min_absolute_pressure_wave)[0] ))\n",
    "print(\"Index of value {}: {}\".format( max_absolute_pressure_wave,  np.where(absolute_pressure_wave == max_absolute_pressure_wave)[0] ))"
   ]
  },
  {
   "cell_type": "markdown",
   "metadata": {},
   "source": [
    "### Sound Pressure level\n",
    "\n",
    "Here we calculated the sound pressure level (SPL) with 20 micropascal, a pressure reference related to human hearing\n",
    "\n",
    "\n"
   ]
  },
  {
   "cell_type": "code",
   "execution_count": 219,
   "metadata": {},
   "outputs": [
    {
     "name": "stdout",
     "output_type": "stream",
     "text": [
      "** Sound Pressure Level <class 'vtkmodules.vtkCommonCore.vtkDoubleArray'>\n",
      "#values: 50873\n",
      "Value Range: (-48.5132945288, 22.4025694923)\n",
      "Value at index 0: 0.0\n",
      "Index of value -48.5132945288: 50382\n",
      "Index of value 22.4025694923: 7452\n"
     ]
    }
   ],
   "source": [
    "print(\"** Sound Pressure Level {}\".format( type(spl) ) )\n",
    "# print(spl)\n",
    "\n",
    "spl_array = [ spl.GetValue(i) for i in range(0, spl.GetSize() ) ]\n",
    "# print(spl_array)\n",
    "\n",
    "print(\"#values: {}\".format( len(spl_array) ))\n",
    "print(\"Value Range: {}\".format(spl.GetValueRange()))\n",
    "print(\"Value at index {}: {}\".format(0, spl.GetValue(0)))\n",
    "print(\"Index of value {}: {}\".format(spl.GetValueRange()[0], spl.LookupValue(spl.GetValueRange()[0])))\n",
    "print(\"Index of value {}: {}\".format(spl.GetValueRange()[1], spl.LookupValue(spl.GetValueRange()[1])))\n"
   ]
  },
  {
   "cell_type": "code",
   "execution_count": null,
   "metadata": {},
   "outputs": [],
   "source": []
  },
  {
   "cell_type": "markdown",
   "metadata": {},
   "source": [
    "### Phase"
   ]
  },
  {
   "cell_type": "code",
   "execution_count": 223,
   "metadata": {},
   "outputs": [
    {
     "name": "stdout",
     "output_type": "stream",
     "text": [
      "** Phase <class 'vtkmodules.vtkCommonCore.vtkDoubleArray'>\n",
      "#values: 50873\n",
      "Value Range: (-1.57079632679, 1.57079632679)\n",
      "Value at index 0: 0.0\n"
     ]
    }
   ],
   "source": [
    "# print(\"phase\")\n",
    "\n",
    "print(\"** Phase {}\".format( type(phase) ) )\n",
    "# print(phase)\n",
    "\n",
    "phase_array = [ phase.GetValue(i) for i in range(0, phase.GetSize() ) ]\n",
    "# print(phase_array)\n",
    "\n",
    "print(\"#values: {}\".format( len(phase_array) ))\n",
    "print(\"Value Range: {}\".format( phase.GetValueRange()) )\n",
    "print(\"Value at index {}: {}\".format( 0, phase.GetValue(0)) )\n",
    "# print(\"Index of value {}: {}\".format(phase.GetValueRange()[0], phase.LookupValue(phase.GetValueRange()[0])))\n"
   ]
  },
  {
   "cell_type": "markdown",
   "metadata": {},
   "source": [
    "### Transmission Loss"
   ]
  },
  {
   "cell_type": "code",
   "execution_count": null,
   "metadata": {},
   "outputs": [],
   "source": [
    "# print(\"pressure_wave_2_flux\")\n",
    "# print(pressure_wave_2_flux)\n",
    "\n",
    "# print(\"pressure_wave_1_flux\")\n",
    "# print(pressure_wave_1_flux)\n",
    "\n",
    "print(\"scalar range\")\n",
    "scalar_range = unstructuredGrid.GetScalarRange()\n",
    "print(scalar_range)\n",
    "\n",
    "# unstructuredGrid\n",
    "\n",
    "print(unstructuredGrid.GetDataObjectType())\n",
    "# print(scalar_range)"
   ]
  }
 ],
 "metadata": {
  "kernelspec": {
   "display_name": "Python 3 (ipykernel)",
   "language": "python",
   "name": "python3"
  },
  "language_info": {
   "codemirror_mode": {
    "name": "ipython",
    "version": 3
   },
   "file_extension": ".py",
   "mimetype": "text/x-python",
   "name": "python",
   "nbconvert_exporter": "python",
   "pygments_lexer": "ipython3",
   "version": "3.9.7"
  }
 },
 "nbformat": 4,
 "nbformat_minor": 4
}
