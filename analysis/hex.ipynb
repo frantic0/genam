{
 "cells": [
  {
   "cell_type": "code",
   "execution_count": 1,
   "metadata": {
    "scrolled": false
   },
   "outputs": [],
   "source": [
    "import numpy as np, matplotlib.pyplot as plt, matplotlib.colors,  matplotlib.cm as cm, os, sys\n",
    "from mpl_toolkits.axes_grid1.axes_divider import make_axes_locatable\n",
    "\n",
    "home = os.path.abspath( os.getcwd() + \"/..\" )\n",
    "sys.path.append(home)\n",
    "\n"
   ]
  },
  {
   "cell_type": "code",
   "execution_count": 26,
   "metadata": {},
   "outputs": [],
   "source": [
    "# Transducer piston model\n",
    "def piston_model_matrix( rxy, rxyz, k, p0 = 8.02, d = 10.5/1000 ):\n",
    "  \"\"\" \n",
    "  Piston model calculator\n",
    "  \n",
    "  Finds the complex pressure propagated by transducers from one plane to another, \n",
    "  sdetermined using the PM_pesb function. (see GS-PAT eq.2).\n",
    "  \n",
    "  Args:\n",
    "    rxy: matrix describing Pythagorean distances between each transducer and each evaluation point in x and y\n",
    "    rxyz: matrix describing Pythagorean distances between each transducer and each evaluation point in x, y and z.\n",
    "    k: wavenumber\n",
    "    p0: (8.02 [Pa]) refernce pressure for Murata transducer measured at a distance of 1m\n",
    "    d: (10.5/1000 [m]) spacing between Murata transducers in a lev board.\n",
    "  \"\"\"\n",
    "  # 1st order Bessel function\n",
    "  b = k*(d/2)*(rxy/rxyz)\n",
    "  # taylor expansion of the bessel function\n",
    "  tay = (1/2)-(b**2/16)+(b**4/384)-(b**6/18432)+(b**8/1474560)-(b**10/176947200)\n",
    "  \n",
    "  return 2*p0*(tay/rxyz)*np.exp(1j*k*rxyz)\n",
    "  # return 2*(p0/b)*(tay/rxyz)*np.exp(1j*k*rxyz)"
   ]
  },
  {
   "cell_type": "code",
   "execution_count": 27,
   "metadata": {},
   "outputs": [],
   "source": [
    "\n",
    "def hexagon_diameter_to_coordinates( d, \n",
    "                                    x_spacing = 10.5/1000,\n",
    "                                    y_spacing = 9/1000,\n",
    "                                    offset = 0.02 \n",
    "                            ) -> list( ( float, float, float ) ): \n",
    "    \"\"\"\n",
    "    Coordinate system for d-transducers diameter hexagon\n",
    "\n",
    "    Centrepoint of central transducer is at origin (0,0,0)\n",
    "\n",
    "    Array begins with the bottom left transducer.\n",
    "\n",
    "    Args: \n",
    "        d:          diameter of hexagon (longest row) in transducer units \n",
    "        x_spacing:  interspacing between elements in the x axis\n",
    "        y_spacing:  interspacing between elements in the y axis\n",
    "        offset:     focal length of the PAT [m]\n",
    "\n",
    "    Returns:\n",
    "        List of tuples with xyz-coordinates of d-transducer arranged in hexagonal grid\n",
    "\n",
    "    \"\"\"\n",
    "\n",
    "    # from the diameter in transducer units (central and longest row) \n",
    "    # calculate array with transducers count \n",
    "    # for bottom row up to central row\n",
    "    bottom_to_central_row_tran_count = np.arange( np.floor( (d+1)/2 ), np.floor( d+1 ), 1, dtype=int )\n",
    "\n",
    "    # calculate array with rows' transducers count  \n",
    "    rows_transducer_count = np.concatenate( ( bottom_to_central_row_tran_count, np.flip( bottom_to_central_row_tran_count )[1:] ), axis=0)\n",
    "\n",
    "    # print(f\" rows transducer count: { rows_transducer_count }\")\n",
    "\n",
    "    coords = []\n",
    "    \n",
    "    # for each row, \n",
    "    # depending on whether it is offset or not (i.e. shifted in relation to central row), \n",
    "    # calculate and assign X Y coordinates to each transducer\n",
    "    for row, row_length in enumerate(rows_transducer_count):\n",
    "\n",
    "        for elem in range( row_length ):\n",
    "            \n",
    "            coord_x = x_spacing * ( elem - row_length/2 + .5 )\n",
    "\n",
    "            coord_y = -sys.maxsize-1\n",
    "\n",
    "            if d % 2 != 0:\n",
    "                coord_y = y_spacing * ( row - (d-1)/2 )\n",
    "            else:\n",
    "                coord_y = y_spacing * ( row - d/2 )\n",
    "                \n",
    "            coords.append( (coord_x, coord_y, offset) )  \n",
    "    \n",
    "    return coords\n",
    "\n"
   ]
  },
  {
   "cell_type": "code",
   "execution_count": 29,
   "metadata": {},
   "outputs": [],
   "source": [
    "def pesb_hex( coords, evpd, resolution ) -> tuple:\n",
    "    \"\"\"\n",
    "    \n",
    "    \"\"\"\n",
    "    tx = np.array([coord[0] for coord in coords], dtype=float)\n",
    "    ty = np.array([coord[1] for coord in coords], dtype=float)\n",
    "    tz = np.array([coord[2] for coord in coords], dtype=float)\n",
    "\n",
    "    # building evaluation plane points\n",
    "    ev = np.linspace( -evpd/2, evpd/2, resolution ) # create vector with desired resolution\n",
    "    ex, ey = np.meshgrid(ev, ev)\n",
    "\n",
    "    # x, y & z vectors for evaluation-plane sample points:\n",
    "    px, py = ex.flatten(), ey.flatten()\n",
    "    pz = np.zeros( len(ex) * len(ey))\n",
    "\n",
    "    # Grids to describe the vector distances between each transducer & evaluation plane sample point.\n",
    "    txv, pxv = np.meshgrid(tx, px)\n",
    "    tyv, pyv = np.meshgrid(ty, py)\n",
    "    tzv, pzv = np.meshgrid(tz, pz)\n",
    "\n",
    "    rxyz = np.sqrt((txv-pxv)**2 + (tyv-pyv)**2 + (tzv-pzv)**2) # Pythagoras for xyz distances\n",
    "    rxy = np.sqrt((txv-pxv)**2 + (tyv-pyv)**2) # Pythagoras for xy distances\n",
    "    \n",
    "    return rxyz, rxy"
   ]
  },
  {
   "cell_type": "code",
   "execution_count": 31,
   "metadata": {},
   "outputs": [],
   "source": [
    "\n",
    "def plotter(Pf, evpd, coords) -> None: \n",
    "\n",
    "  fig, (ax1, ax2, ax3) = plt.subplots( nrows=1, ncols=3, figsize=(16, 5))\n",
    "  extents = [-evpd/2, evpd/2, -evpd/2, evpd/2]\n",
    "\n",
    "  ax1.axis(extents)\n",
    "  for i in range(len(coords)):\n",
    "      c = plt.Circle( ( (coords[i])[0] , (coords[i])[1] ), \n",
    "                            radius=0.005, lw=3, color='k', alpha=0.75, fill=False)\n",
    "      ax1.add_artist(c)\n",
    "      \n",
    "  ax1.set_title(\"Transducer Arrangement\", fontsize=15, pad=10)\n",
    "  ax1.set_xlabel(\"x (m)\", fontsize=13, labelpad=10)\n",
    "  ax1.set_ylabel(\"y (m)\", fontsize=13)\n",
    "  ax1.set_aspect(\"auto\")\n",
    "\n",
    "  im2 = ax2.imshow(np.mod(np.angle(Pf), 2*np.pi)-np.pi, vmin=-np.pi, vmax=np.pi, extent=extents) # phase\n",
    "  divider = make_axes_locatable(ax2)\n",
    "  cax2 = divider.append_axes(\"right\", size='5%', pad=.1)\n",
    "  plt.colorbar(im2, cax=cax2)\n",
    "\n",
    "  ax2.set_title(\"Phase in far field ($\\phi$)\", fontsize=15, pad=10)\n",
    "  ax2.set_xlabel(\"x (m)\", fontsize=13, labelpad=10)\n",
    "  ax2.set_ylabel(\"y (m)\", fontsize=13)\n",
    "  ax2.set_aspect(\"auto\")\n",
    "\n",
    "  im3 = ax3.imshow(abs(Pf), cmap=cm.get_cmap('jet'), extent=extents)\n",
    "  divider = make_axes_locatable(ax3)\n",
    "  cax3 = divider.append_axes(\"right\", size='5%', pad=.1)\n",
    "  plt.colorbar(im3, cax=cax3)\n",
    "\n",
    "  ax3.set_title(\"Pressure in far field (Pa)\", fontsize=15, pad=10)\n",
    "  ax3.set_xlabel(\"x (m)\", fontsize=13, labelpad=10)\n",
    "  ax3.set_ylabel(\"y (m)\", fontsize=13)\n",
    "  ax3.set_aspect(\"auto\")\n",
    "\n",
    "  # txt = ax3.text(\"zxcv\", \"asdf\", \"Chart Ready\", \n",
    "  #             ha='center', fontsize=36, color='#DD4012')\n",
    "\n",
    "\n",
    "  fig.tight_layout()\n",
    "  plt.show()\n"
   ]
  },
  {
   "cell_type": "code",
   "execution_count": 21,
   "metadata": {},
   "outputs": [],
   "source": [
    "def propagate( rxyz, rxy, wavelength = 343/40000 ): \n",
    "\n",
    "  k = 2 * np.pi / wavelength # rads/m\n",
    "\n",
    "  H = piston_model_matrix(rxy, rxyz, k)\n",
    "\n",
    "  ph = np.zeros( len(coords) ) # all transducer phases set to zero\n",
    "  At = A * np.ones( len(coords) ) # all transducer amplitudes set to A\n",
    "  Pt = At * np.exp( 1j * ph ).reshape( len(coords) ) # transducer complex pressure\n",
    "  Pf = np.dot(H, Pt).reshape( ( resolution, resolution ) ) # propagate to far field\n",
    "\n",
    "  return Pf"
   ]
  },
  {
   "cell_type": "code",
   "execution_count": 43,
   "metadata": {},
   "outputs": [
    {
     "name": "stdout",
     "output_type": "stream",
     "text": [
      "4 4 2 37\n",
      "[[555.03788141 555.03788141]\n",
      " [555.03788141 555.03788141]]\n"
     ]
    },
    {
     "data": {
      "image/png": "[encoded data removed]",
      "text/plain": [
       "<Figure size 1152x360 with 5 Axes>"
      ]
     },
     "metadata": {
      "needs_background": "light"
     },
     "output_type": "display_data"
    }
   ],
   "source": [
    "\n",
    "A = 1             # amplitude for each transducer to take (max=1, min=0)\n",
    "\n",
    "d = 7             # diameter of hexagon [transducer units]\n",
    "\n",
    "# evpd =  0.01025    # evaluation plane [m] transducer diameter + interspacing/2\n",
    "evpd = 0.008661 # evaluation plane [m] lambda Memoli\n",
    "# evpd = 0.008575 # evaluation plane [m] lambda\n",
    "# evpd = 0.072     # evaluation plane [m] width of central row of 7-hex-PAT board measured by ruler\n",
    "# evpd = 0.08      # evaluation plane [m] \n",
    "\n",
    "resolution = 2    # evaluation plane resolution [metamaterial unit cells]\n",
    "\n",
    "# focal length of the board [m]\n",
    "# offset = 0.02       \n",
    "offset = 0.01715      # 2*lambda [m]\n",
    "# offset = 0.01500625 # 1.75*lambda [m]\n",
    "# offset = 0.0128625  # 1.5*lambda [m]\n",
    "# offset = 0.01071875 # 1.25*lambda [m]\n",
    "# offset = 0.008575   # 1*lambda [m]\n",
    "# offset = 0.00643125 # 0.75*lambda [m]\n",
    "# offset = 0.0042875  # 0.5*lambda [m]\n",
    "# offset = 0.00214375 # 0.25*lambda [m]\n",
    "\n",
    "# calculate hexagon coordinates in XY plane \n",
    "coords = hexagon_diameter_to_coordinates( d, offset = offset )\n",
    "\n",
    "def propagate( rxyz, rxy, wavelength = 343/40000 ): \n",
    "\n",
    "  k = 2 * np.pi / wavelength # rads/m\n",
    "\n",
    "  H = piston_model_matrix(rxy, rxyz, k)\n",
    "\n",
    "  phases = np.zeros( len(coords) ) # all transducer PHASES set to zero\n",
    "\n",
    "  amplitudes = A * np.ones( len(coords) ) # all transducer AMPLITUDES set to A\n",
    "\n",
    "  Pt = amplitudes * np.exp( 1j * phases ).reshape( len(coords) ) # transducer COMPLEX PRESSURE\n",
    "\n",
    "  Pf = np.dot( H, Pt ).reshape( ( resolution, resolution ) ) # propagate to far field\n",
    "  \n",
    "  print(len(rxyz), len(rxy), resolution, len(coords))\n",
    "  \n",
    "  return Pf\n",
    "\n",
    "Pf = propagate( *pesb_hex( coords, evpd, resolution ) )\n",
    "\n",
    "print(abs(Pf))\n",
    "\n",
    "# print(len(coords))\n",
    "plotter(Pf, evpd, coords)"
   ]
  }
 ],
 "metadata": {
  "kernelspec": {
   "display_name": "Python 3.9.10 64-bit (system)",
   "language": "python",
   "name": "python3"
  },
  "language_info": {
   "codemirror_mode": {
    "name": "ipython",
    "version": 3
   },
   "file_extension": ".py",
   "mimetype": "text/x-python",
   "name": "python",
   "nbconvert_exporter": "python",
   "pygments_lexer": "ipython3",
   "version": "3.9.10"
  },
  "varInspector": {
   "cols": {
    "lenName": 16,
    "lenType": 16,
    "lenVar": 40
   },
   "kernels_config": {
    "python": {
     "delete_cmd_postfix": "",
     "delete_cmd_prefix": "del ",
     "library": "var_list.py",
     "varRefreshCmd": "print(var_dic_list())"
    },
    "r": {
     "delete_cmd_postfix": ") ",
     "delete_cmd_prefix": "rm(",
     "library": "var_list.r",
     "varRefreshCmd": "cat(var_dic_list()) "
    }
   },
   "types_to_exclude": [
    "module",
    "function",
    "builtin_function_or_method",
    "instance",
    "_Feature"
   ],
   "window_display": false
  },
  "vscode": {
   "interpreter": {
    "hash": "353c915ea5cc5a19738ce5749d0c8cb9cef59d37d1ca2674c5599795bda4bea4"
   }
  }
 },
 "nbformat": 4,
 "nbformat_minor": 2
}
