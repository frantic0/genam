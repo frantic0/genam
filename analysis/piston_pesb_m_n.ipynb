{
 "cells": [
  {
   "cell_type": "code",
   "execution_count": 1,
   "id": "9d82db11",
   "metadata": {},
   "outputs": [],
   "source": [
    "import numpy as np, matplotlib.pyplot as plt, matplotlib.colors, os, sys\n",
    "from mpl_toolkits.axes_grid1.axes_divider import make_axes_locatable\n",
    "\n"
   ]
  },
  {
   "cell_type": "code",
   "execution_count": 8,
   "id": "827229ba",
   "metadata": {},
   "outputs": [],
   "source": [
    "def piston_model_matrix(rxy, rxyz, k, p0=8.02, d=10.5/1000):\n",
    "    \"\"\"\n",
    "    Piston model calculator\n",
    "    \n",
    "        Finds the complex pressure propagated by transducers from one plane to another, \n",
    "        determined using the PM_pesb function. (see GS-PAT eq.2).\n",
    "    \n",
    "    Params:\n",
    "        rxy = matrix describing Pythagorean distances between each transducer and each evaluation point in x and y\n",
    "        rxyz = matrix describing Pythagorean distances between each transducer and each evaluation point in x, y and z.\n",
    "        k = wavenumber\n",
    "        p0 = (8.02 [Pa]) refernce pressure for Murata transducer measured at a distance of 1m\n",
    "        d = (10.5/1000 [m]) spacing between Murata transducers in a lev board.\n",
    "    \"\"\"\n",
    "    # 1st order Bessel function\n",
    "    b = k*(d/2)*(rxy/rxyz)\n",
    "\n",
    "    # taylor expansion of the bessel function\n",
    "    tay = (1/2)-(b**2/16)+(b**4/384)-(b**6/18432)+(b**8/1474560)-(b**10/176947200)\n",
    "    \n",
    "    return 2*p0*(tay/rxyz)*np.exp(1j*k*rxyz)\n",
    "    # return 2*(p0/b)*(tay/rxyz)*np.exp(1j*k*rxyz)"
   ]
  },
  {
   "cell_type": "code",
   "execution_count": 65,
   "id": "d5f72350",
   "metadata": {},
   "outputs": [],
   "source": [
    "def pesb(side_length_x, side_length_y, dist, cell_spacing, tx, ty, tz):\n",
    "\n",
    "    \"\"\"pressure_evaluation_space_builder\"\"\"\n",
    "    \n",
    "    ex = np.arange(-side_length_x/2 + cell_spacing/2, \n",
    "                    side_length_x/2 + cell_spacing/2, \n",
    "                    cell_spacing ) # x side length vector \n",
    "    \n",
    "    ey = np.arange(-side_length_y/2 + cell_spacing/2, \n",
    "                    side_length_y/2 + cell_spacing/2, \n",
    "                    cell_spacing) # y side length vector\n",
    "    \n",
    "    exx, eyy = np.meshgrid(ex, ey)\n",
    "    print(exx)\n",
    "    print(eyy)\n",
    "\n",
    "    # x, y & z vectors for evaluation-plane sample points:\n",
    "    px, py, pz = exx.flatten(), eyy.flatten(), dist*np.ones_like(exx.flatten())\n",
    "    \n",
    "    # Grids to describe the vector distances between each transducer & evaluation plane sample point.\n",
    "    txv, pxv = np.meshgrid(tx,px)\n",
    "    tyv, pyv = np.meshgrid(ty,py)\n",
    "    tzv, pzv = np.meshgrid(tz,pz)\n",
    "    \n",
    "    rxyz = np.sqrt((txv-pxv)**2 + (tyv-pyv)**2 + (tzv-pzv)**2) # Pythagoras for xyz distances\n",
    "    rxy = np.sqrt((txv-pxv)**2 + (tyv-pyv)**2) # Pythagoras for xy distances\n",
    "    \n",
    "    return rxyz, rxy\n"
   ]
  },
  {
   "cell_type": "code",
   "execution_count": 7,
   "id": "28599671",
   "metadata": {},
   "outputs": [
    {
     "name": "stdout",
     "output_type": "stream",
     "text": [
      "[[-6. -2.  2.  6.]]\n",
      "[[1.991425 1.991425 1.991425 1.991425]]\n"
     ]
    }
   ],
   "source": [
    "def write_inlet_pressure_grid(  unit_cell_size,\n",
    "                                side_length_x, \n",
    "                                side_length_y, \n",
    "                                 ):\n",
    "\n",
    "    ex = np.arange(   # x side length vector \n",
    "        unit_cell_size * (-side_length_x + 1)/2, \n",
    "        unit_cell_size * ( side_length_x + 1)/2, \n",
    "        unit_cell_size ) \n",
    "    \n",
    "\n",
    "    ey = np.arange(   # y side length vector\n",
    "        unit_cell_size * (-side_length_y + 1)/2, \n",
    "        unit_cell_size * ( side_length_y + 1)/2, \n",
    "        unit_cell_size )\n",
    "    \n",
    "\n",
    "    exx, eyy = np.meshgrid(ex, ey)\n",
    "    print(exx)\n",
    "    print(eyy)\n",
    "\n",
    "    # x, y & z vectors for evaluation-plane sample points:\n",
    "    px, py = exx.flatten(), eyy.flatten()\n",
    "\n",
    "\n",
    "c = 343 # m/s\n",
    "v = 40000 # Hz\n",
    "lam = c/v # m\n",
    "m, n = 4, 4 # Metasurface size (in units of dx_AMM)\n",
    "\n",
    "write_inlet_pressure_grid( lam/2, m, n )\n",
    "\n",
    "\n"
   ]
  },
  {
   "cell_type": "code",
   "execution_count": 75,
   "id": "9815ee39",
   "metadata": {},
   "outputs": [
    {
     "name": "stdout",
     "output_type": "stream",
     "text": [
      "[[-0.00214375  0.00214375]\n",
      " [-0.00214375  0.00214375]]\n",
      "[[-0.00214375 -0.00214375]\n",
      " [ 0.00214375  0.00214375]]\n",
      "H: (4, 16)\n",
      "Pt: [1.+0.j 1.+0.j 1.+0.j 1.+0.j 1.+0.j 1.+0.j 1.+0.j 1.+0.j 1.+0.j 1.+0.j\n",
      " 1.+0.j 1.+0.j 1.+0.j 1.+0.j 1.+0.j 1.+0.j]\n",
      "Pt shape:  (16,)\n",
      "Pf: [[-498.49182466+335.42476067j -498.49182466+335.42476067j]\n",
      " [-498.49182466+335.42476067j -498.49182466+335.42476067j]]\n",
      "Pf shape: (2, 2)\n"
     ]
    },
    {
     "data": {
      "image/png": "[encoded data removed]",
      "text/plain": [
       "<Figure size 1440x504 with 4 Axes>"
      ]
     },
     "metadata": {
      "needs_background": "light"
     },
     "output_type": "display_data"
    }
   ],
   "source": [
    "# ---> transducer params <---\n",
    "c = 343 # m/s\n",
    "v = 40000 # Hz\n",
    "lam = c/v # m\n",
    "k = 2*np.pi/lam # rads/m\n",
    "dx_tran = 10.5/1000 # diameter of a transducer [m] (actually they are 10mm in diameter, with a spacing of 0.5mm)\n",
    "p0 = 8.02 # tranducer reference pressure [Pa] \n",
    "A = 1 # amplitude for each transducer to take (max=1, min=0)\n",
    "\n",
    "# ---> AMM params <---\n",
    "dx_AMM = lam/2\n",
    "prop_dist = 12*lam # focal length of the AMM [m]\n",
    "resolution = 10\n",
    "iterations = 200\n",
    "\n",
    "\n",
    "tran_m, tran_n = 4, 4   # Transducer configuration\n",
    "dist = .2 # focal length of the board [m] and distance to the AMM\n",
    "m, n = 2, 2 # Metasurface size (in units of dx_AMM)\n",
    "\n",
    "\n",
    "# tran_centrepoint = (0, 0, 0)\n",
    "\n",
    "x = np.arange(  (dx_tran/2)*(1-tran_m), \n",
    "                (dx_tran/2)*(1+tran_m), \n",
    "                dx_tran) # transducer arrangement in x\n",
    "\n",
    "y = np.arange(  (dx_tran/2)*(1-tran_n),\n",
    "                (dx_tran/2)*(1+tran_n),\n",
    "                dx_tran) # transducer arrangement in y\n",
    "\n",
    "tx, ty = np.meshgrid(x, y)\n",
    "\n",
    "tz = np.zeros_like(tx) # transducer arrangement in z\n",
    "\n",
    "rxyz, rxy = pesb( m * lam/2, n * lam/2, \n",
    "                  dist, \n",
    "                  lam/2, \n",
    "                  tx, ty, tz )\n",
    "\n",
    "H = piston_model_matrix( rxy, rxyz, k, p0, dx_tran ) # propagator\n",
    "\n",
    "Pt = A * np.ones( tran_m * tran_n ) * np.exp( 1j * np.zeros( tran_m * tran_n ) ) # transducer complex pressure\n",
    "\n",
    "Pf = np.dot( H, Pt ).reshape( m, n ) # propagate to far field and reshape to array\n",
    "\n",
    "\n",
    "print(\"H:\", H.shape)\n",
    "print(\"Pt:\", Pt)\n",
    "print(\"Pt shape: \", Pt.shape)\n",
    "print(f'Pf: {Pf}')\n",
    "print(f'Pf shape: {Pf.shape}')\n",
    "\n",
    "# Plotting\n",
    "fig, (ax1, ax2) = plt.subplots(nrows=1, ncols=2, figsize=(20, 7))\n",
    "\n",
    "im1 = ax1.imshow(   np.mod( np.angle(Pf), 2*np.pi), \n",
    "                    cmap=cm.get_cmap('viridis'), \n",
    "                    vmin=0, \n",
    "                    vmax=2*np.pi ) # phase\n",
    "\n",
    "divider = make_axes_locatable(ax1)\n",
    "cax1 = divider.append_axes(\"right\", size='5%', pad=.1)\n",
    "# ax1.title.set_text(\"phasemap\")\n",
    "# ax1.set_title(\"phasemap\", fontsize=15)\n",
    "plt.colorbar(im1, cax=cax1)\n",
    "\n",
    "im2 = ax2.imshow(   abs(Pf), \n",
    "                    cmap=cm.get_cmap('jet') )\n",
    "\n",
    "divider = make_axes_locatable(ax2)\n",
    "cax2 = divider.append_axes(\"right\", size='5%', pad=.1)\n",
    "# ax2.set_title(\"propagation\", fontsize=15)\n",
    "plt.colorbar(im2, cax=cax2)\n",
    "\n",
    "# fig.tight_layout()\n",
    "plt.show()"
   ]
  }
 ],
 "metadata": {
  "kernelspec": {
   "display_name": "Python 3.9.10 64-bit (system)",
   "language": "python",
   "name": "python3"
  },
  "language_info": {
   "codemirror_mode": {
    "name": "ipython",
    "version": 3
   },
   "file_extension": ".py",
   "mimetype": "text/x-python",
   "name": "python",
   "nbconvert_exporter": "python",
   "pygments_lexer": "ipython3",
   "version": "3.9.10"
  },
  "vscode": {
   "interpreter": {
    "hash": "353c915ea5cc5a19738ce5749d0c8cb9cef59d37d1ca2674c5599795bda4bea4"
   }
  }
 },
 "nbformat": 4,
 "nbformat_minor": 5
}
